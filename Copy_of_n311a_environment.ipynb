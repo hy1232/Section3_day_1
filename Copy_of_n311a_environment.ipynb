{
  "nbformat": 4,
  "nbformat_minor": 0,
  "metadata": {
    "kernelspec": {
      "display_name": "Python 3",
      "language": "python",
      "name": "python3"
    },
    "language_info": {
      "codemirror_mode": {
        "name": "ipython",
        "version": 3
      },
      "file_extension": ".py",
      "mimetype": "text/x-python",
      "name": "python",
      "nbconvert_exporter": "python",
      "pygments_lexer": "ipython3",
      "version": "3.8.3"
    },
    "colab": {
      "name": "Copy of n311a-environment.ipynb",
      "provenance": [],
      "collapsed_sections": [],
      "include_colab_link": true
    }
  },
  "cells": [
    {
      "cell_type": "markdown",
      "metadata": {
        "id": "view-in-github",
        "colab_type": "text"
      },
      "source": [
        "<a href=\"https://colab.research.google.com/github/hy1232/Section3_day_1/blob/master/Copy_of_n311a_environment.ipynb\" target=\"_parent\"><img src=\"https://colab.research.google.com/assets/colab-badge.svg\" alt=\"Open In Colab\"/></a>"
      ]
    },
    {
      "cell_type": "markdown",
      "metadata": {
        "id": "i4pO-wpI0FOx"
      },
      "source": [
        "<img src='https://i.imgur.com/RDAD11M.png' width = '200' align = 'right'>\n",
        "\n",
        "## *DATA SCIENCE / SECTION 3 / SPRINT 1 / NOTE 1*\n",
        "\n",
        "# 📝 Assignment\n",
        "\n",
        "# 깃헙에 패키지 만들어 올리기\n",
        "\n",
        "### 1) 깃헙 레포 생성\n",
        "\n",
        "- 깃헙에서 레포를 생성해 봅니다.\n",
        "- 로컬과 연결해 봅니다.\n",
        "- 2개 이상의 커밋을 해봅니다.\n",
        "\n",
        "> *레포 주소를 아래에 적습니다*"
      ]
    },
    {
      "cell_type": "markdown",
      "metadata": {
        "id": "dhRqA3fA0FOz"
      },
      "source": [
        "https://github.com/hy1232/Section3_day_1\n"
      ]
    },
    {
      "cell_type": "markdown",
      "metadata": {
        "id": "yHV1sJ8n0FO0"
      },
      "source": [
        "### 2) 가상환경 설정하기\n",
        "\n",
        "- 콘다를 이용해서 파이썬 3.7 이 설치된 가상환경을 만들어 봅니다.\n",
        "\n",
        "> *`% conda info --envs` 명령어가 실행된 사진을 첨부합니다*"
      ]
    },
    {
      "cell_type": "markdown",
      "metadata": {
        "id": "uEINY6k10FO1"
      },
      "source": [
        "![과제 스샷.PNG](data:image/png;base64,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)"
      ]
    },
    {
      "cell_type": "markdown",
      "metadata": {
        "id": "aNJQb6c70FO2"
      },
      "source": [
        "### 3) 계산기 패키지 만들기\n",
        "\n",
        "- 더하기, 나누기, 곱하기, 빼기 등의 기능들은 포함해야 합니다."
      ]
    },
    {
      "cell_type": "markdown",
      "metadata": {
        "id": "Ye0SvCZK0FO3"
      },
      "source": [
        "### 4) 🔥 도전과제\n",
        "\n",
        "- test PyPI 에 패키지를 배포해 봅니다.\n",
        "\n",
        "> *배포 주소를 아래에 적습니다*"
      ]
    },
    {
      "cell_type": "markdown",
      "metadata": {
        "id": "cNITKzx30FO4"
      },
      "source": [
        ""
      ]
    }
  ]
}